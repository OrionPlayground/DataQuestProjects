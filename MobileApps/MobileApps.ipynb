{
 "cells": [
  {
   "cell_type": "markdown",
   "metadata": {},
   "source": [
    "# AppleStore and GooglePlay Profiles Applications Analysis\n",
    "\n",
    "## Introduction\n",
    "\n",
    "Our aim in this project is analise genres of applications to make profitable profiles that could be use in planning for next releses. Becouse our company business plan assumes making income from in-app advertising, our point of interest are only free, english applications. We are going to use data analysis to allow making data-driven decisions in this area.\n",
    "\n",
    "To provide good sample we have avaible two data sets that came from [Kaggle](http://www.kaggle.com):\n",
    "- [Google Play Store Apps](https://www.kaggle.com/lava18/google-play-store-apps/home) containing data from around 10'000 applications from Google Play\n",
    "- [Mobile App Store](https://www.kaggle.com/ramamet4/app-store-apple-data-set-10k-apps/home) containing data from around 7'000 applications from Apple Store"
   ]
  },
  {
   "cell_type": "code",
   "execution_count": 1,
   "metadata": {},
   "outputs": [],
   "source": [
    "from csv import reader\n",
    "\n",
    "### GooglePlay Dataset ###\n",
    "opened_file = open('./GooglePlay.csv')\n",
    "readed_file = reader(opened_file)\n",
    "google = list(readed_file)\n",
    "google_header = google[0]\n",
    "google = google[1:]\n",
    "\n",
    "### AppleStore Dataset ###\n",
    "opened_file = open('./AppleStore.csv')\n",
    "readed_file = reader(opened_file)\n",
    "apple = list(readed_file)\n",
    "apple_header = apple[0]\n",
    "apple = apple[1:]\n",
    "\n",
    "# Print requested number of rows from dataset, and number of rows and columns\n",
    "# if rows_and_columns = True\n",
    "def explore_data(dataset, start, end, rows_and_columns = False):\n",
    "    dataslice = dataset[start:end]\n",
    "    \n",
    "    for row in dataslice:\n",
    "        print(row, '\\n')\n",
    "        \n",
    "    if rows_and_columns:\n",
    "        print('Number of rows:', len(dataset))\n",
    "        print('Number of columns:', len(dataset[0]))\n"
   ]
  },
  {
   "cell_type": "markdown",
   "metadata": {},
   "source": [
    "## Data sets\n",
    "\n",
    "Let's start with looking what we have in our data sets."
   ]
  },
  {
   "cell_type": "code",
   "execution_count": 2,
   "metadata": {},
   "outputs": [
    {
     "name": "stdout",
     "output_type": "stream",
     "text": [
      "Google Play data:\n",
      "\n",
      "['App', 'Category', 'Rating', 'Reviews', 'Size', 'Installs', 'Type', 'Price', 'Content Rating', 'Genres', 'Last Updated', 'Current Ver', 'Android Ver'] \n",
      "\n",
      "['Photo Editor & Candy Camera & Grid & ScrapBook', 'ART_AND_DESIGN', '4.1', '159', '19M', '10,000+', 'Free', '0', 'Everyone', 'Art & Design', 'January 7, 2018', '1.0.0', '4.0.3 and up'] \n",
      "\n",
      "['Coloring book moana', 'ART_AND_DESIGN', '3.9', '967', '14M', '500,000+', 'Free', '0', 'Everyone', 'Art & Design;Pretend Play', 'January 15, 2018', '2.0.0', '4.0.3 and up'] \n",
      "\n",
      "['U Launcher Lite – FREE Live Cool Themes, Hide Apps', 'ART_AND_DESIGN', '4.7', '87510', '8.7M', '5,000,000+', 'Free', '0', 'Everyone', 'Art & Design', 'August 1, 2018', '1.2.4', '4.0.3 and up'] \n",
      "\n",
      "Number of rows: 10841\n",
      "Number of columns: 13\n"
     ]
    }
   ],
   "source": [
    "print('Google Play data:\\n')\n",
    "print(google_header, '\\n')\n",
    "explore_data(google, 0, 3, True)"
   ]
  },
  {
   "cell_type": "markdown",
   "metadata": {},
   "source": [
    "As we can see in Google Play we have 10841 apps. About every application we have 13 data points. Most interesting are App, Type, Installs, Genres, Price, Rating and Reviews."
   ]
  },
  {
   "cell_type": "code",
   "execution_count": 3,
   "metadata": {},
   "outputs": [
    {
     "name": "stdout",
     "output_type": "stream",
     "text": [
      "Apple Store data:\n",
      "\n",
      "['', 'id', 'track_name', 'size_bytes', 'currency', 'price', 'rating_count_tot', 'rating_count_ver', 'user_rating', 'user_rating_ver', 'ver', 'cont_rating', 'prime_genre', 'sup_devices.num', 'ipadSc_urls.num', 'lang.num', 'vpp_lic'] \n",
      "\n",
      "['1', '281656475', 'PAC-MAN Premium', '100788224', 'USD', '3.99', '21292', '26', '4', '4.5', '6.3.5', '4+', 'Games', '38', '5', '10', '1'] \n",
      "\n",
      "['2', '281796108', 'Evernote - stay organized', '158578688', 'USD', '0', '161065', '26', '4', '3.5', '8.2.2', '4+', 'Productivity', '37', '5', '23', '1'] \n",
      "\n",
      "['3', '281940292', 'WeatherBug - Local Weather, Radar, Maps, Alerts', '100524032', 'USD', '0', '188583', '2822', '3.5', '4.5', '5.0.0', '4+', 'Weather', '37', '5', '3', '1'] \n",
      "\n",
      "Number of rows: 7197\n",
      "Number of columns: 17\n"
     ]
    }
   ],
   "source": [
    "print('Apple Store data:\\n')\n",
    "print(apple_header, '\\n')\n",
    "explore_data(apple, 0, 3, True)"
   ]
  },
  {
   "cell_type": "markdown",
   "metadata": {},
   "source": [
    "In Apple Store we 7197 apps in our data set. Every application have 15 real data points (excluding ids). Most appeling seems to be track_name, prime_genre, price and ratings. Unfortunetly we don't have hery any information about number of installations."
   ]
  },
  {
   "cell_type": "markdown",
   "metadata": {},
   "source": [
    "## Data Cleaning\n",
    "\n",
    "### Wrong record\n",
    "\n",
    "Discussion on Kaggle outlines a wrong record in data from Google Play in row 10472. Let's see whats wrong there and compere this record with another."
   ]
  },
  {
   "cell_type": "code",
   "execution_count": 4,
   "metadata": {},
   "outputs": [
    {
     "name": "stdout",
     "output_type": "stream",
     "text": [
      "['App', 'Category', 'Rating', 'Reviews', 'Size', 'Installs', 'Type', 'Price', 'Content Rating', 'Genres', 'Last Updated', 'Current Ver', 'Android Ver'] Length: 13 \n",
      "\n",
      "['Life Made WI-Fi Touchscreen Photo Frame', '1.9', '19', '3.0M', '1,000+', 'Free', '0', 'Everyone', '', 'February 11, 2018', '1.0.19', '4.0 and up'] Length: 12 \n",
      "\n",
      "['Essential Resources', 'LIBRARIES_AND_DEMO', '4.6', '237', '8.5k', '50,000+', 'Free', '0', 'Everyone', 'Libraries & Demo', 'September 27, 2017', '1.02', '7.1 and up'] Length: 13 \n",
      "\n"
     ]
    }
   ],
   "source": [
    "print(google_header, 'Length:', len(google_header), '\\n') # Headers\n",
    "print(google[10472], 'Length:', len(google[10472]), '\\n') # Wrong record\n",
    "print(google[1532], 'Length:', len(google[1532]), '\\n') # Correct record"
   ]
  },
  {
   "cell_type": "markdown",
   "metadata": {},
   "source": [
    "As we can see, 10472th record is one field shorter (it doesn't have Category value). We dont know correct value for category, so we'll delete this row."
   ]
  },
  {
   "cell_type": "code",
   "execution_count": 5,
   "metadata": {},
   "outputs": [
    {
     "name": "stdout",
     "output_type": "stream",
     "text": [
      "10841\n",
      "10840\n"
     ]
    }
   ],
   "source": [
    "print(len(google))\n",
    "del google[10472]\n",
    "print(len(google))"
   ]
  },
  {
   "cell_type": "markdown",
   "metadata": {},
   "source": [
    "### Looking for duplicates\n",
    "\n",
    "Now, we want to check are there any duplicated entries in the dataset. Let's start with Google Play:"
   ]
  },
  {
   "cell_type": "code",
   "execution_count": 6,
   "metadata": {},
   "outputs": [
    {
     "name": "stdout",
     "output_type": "stream",
     "text": [
      "1181\n",
      "['Quick PDF Scanner + OCR FREE', 'Box', 'Google My Business', 'ZOOM Cloud Meetings', 'join.me - Simple Meetings', 'Box', 'Zenefits', 'Google Ads', 'Google My Business', 'Slack']\n"
     ]
    }
   ],
   "source": [
    "duplicates = []\n",
    "uniques = []\n",
    "for app in google:\n",
    "    name = app[0]\n",
    "    if name in uniques:\n",
    "        duplicates.append(name)\n",
    "    else:\n",
    "        uniques.append(name)\n",
    "\n",
    "n_dupl_google = len(duplicates)\n",
    "print(n_dupl_google)\n",
    "print(duplicates[:10])"
   ]
  },
  {
   "cell_type": "markdown",
   "metadata": {},
   "source": [
    "For example Google My Business aplication is more than two times in our dataset. We don't want to count any application more than once in our statistics, so we need to find and delete duplicated entries, but for now let's check Apple Store data."
   ]
  },
  {
   "cell_type": "code",
   "execution_count": 7,
   "metadata": {},
   "outputs": [
    {
     "name": "stdout",
     "output_type": "stream",
     "text": [
      "0\n"
     ]
    }
   ],
   "source": [
    "duplicates = []\n",
    "uniques = []\n",
    "for app in apple:\n",
    "    name = app[0]\n",
    "    if name in uniques:\n",
    "        duplicates.append(name)\n",
    "    else:\n",
    "        uniques.append(name)\n",
    "\n",
    "n_dupl_apple = len(duplicates)\n",
    "print(n_dupl_apple)\n",
    "#print(duplicates[:10])"
   ]
  },
  {
   "cell_type": "markdown",
   "metadata": {},
   "source": [
    "Fortunetly, Apple Store data dont have this problem. So let's go back to the Google Play data and look closely to the duplicates in Google dataset."
   ]
  },
  {
   "cell_type": "code",
   "execution_count": 8,
   "metadata": {},
   "outputs": [
    {
     "name": "stdout",
     "output_type": "stream",
     "text": [
      "['App', 'Category', 'Rating', 'Reviews', 'Size', 'Installs', 'Type', 'Price', 'Content Rating', 'Genres', 'Last Updated', 'Current Ver', 'Android Ver']\n",
      "['Slack', 'BUSINESS', '4.4', '51507', 'Varies with device', '5,000,000+', 'Free', '0', 'Everyone', 'Business', 'August 2, 2018', 'Varies with device', 'Varies with device']\n",
      "['Slack', 'BUSINESS', '4.4', '51507', 'Varies with device', '5,000,000+', 'Free', '0', 'Everyone', 'Business', 'August 2, 2018', 'Varies with device', 'Varies with device']\n",
      "['Slack', 'BUSINESS', '4.4', '51510', 'Varies with device', '5,000,000+', 'Free', '0', 'Everyone', 'Business', 'August 2, 2018', 'Varies with device', 'Varies with device']\n"
     ]
    }
   ],
   "source": [
    "print(google_header)\n",
    "for app in google:\n",
    "    if app[0] == 'Slack':\n",
    "        print(app)"
   ]
  },
  {
   "cell_type": "markdown",
   "metadata": {},
   "source": [
    "Only difference between entries is column 'Reviews'. We can assume that theese entries comes from diffrent hours or days, so best sollution is removing the old ones (with fewer reviews).\n",
    "\n",
    "To do this, we need to find those entries with highest amount of Reviews, what we fulfill in the first loop. Then we go trough whole list once again and put them to the new clean list. In the end we check for sure that there is no duplicates in the list."
   ]
  },
  {
   "cell_type": "code",
   "execution_count": 9,
   "metadata": {},
   "outputs": [
    {
     "name": "stdout",
     "output_type": "stream",
     "text": [
      "Expected length of dictionary: 9659\n",
      "Real length of dictionary: 9659\n",
      "Clean list length: 9659\n",
      "Duplicates in clean list: 0\n"
     ]
    }
   ],
   "source": [
    "max_reviews = {}\n",
    "\n",
    "# Go trough whole list and pick highest amount of reviews for every app \n",
    "for app in google:\n",
    "    name = app[0]\n",
    "    reviews = int(app[3])\n",
    "    \n",
    "    if name in max_reviews:\n",
    "        if max_reviews[name] < reviews:\n",
    "            max_reviews[name] = reviews\n",
    "    else:\n",
    "        max_reviews[name] = reviews\n",
    "      \n",
    "print('Expected length of dictionary:', len(google) - n_dupl_google)\n",
    "print('Real length of dictionary:', len(max_reviews)) \n",
    "\n",
    "google_clean = []\n",
    "already_added = []\n",
    "\n",
    "# Then go trough list once again and add entries with highest reviews to clean list\n",
    "for app in google:\n",
    "    name = app[0]\n",
    "    reviews = int(app[3])\n",
    "    \n",
    "    if (name not in already_added and reviews == max_reviews[name]):\n",
    "        google_clean.append(app)\n",
    "        already_added.append(name)\n",
    "        \n",
    "print('Clean list length:', len(google_clean))\n",
    "\n",
    "# Check once again for duplicates to make sure everything goes as expected\n",
    "duplicates = []\n",
    "uniques = []\n",
    "for app in google_clean:\n",
    "    name = app[0]\n",
    "    if name in uniques:\n",
    "        duplicates.append(name)\n",
    "    else:\n",
    "        uniques.append(name)\n",
    "\n",
    "print('Duplicates in clean list:', len(duplicates))"
   ]
  },
  {
   "cell_type": "markdown",
   "metadata": {},
   "source": [
    "### Remove non-english applications\n",
    "\n",
    "Our point of interest is only english speaking audience, we now we are going to remove all non-english app from our datasets. To provide this we are going to go trough all applications, and count number of non-english characters. Some english applications can have small number of non-english characters like question mark but if this number is higher than 3 we can assume that this application is for non-english audience."
   ]
  },
  {
   "cell_type": "code",
   "execution_count": 10,
   "metadata": {},
   "outputs": [
    {
     "name": "stdout",
     "output_type": "stream",
     "text": [
      "Amount of english Google apps: 9614\n",
      "Amount of english Apple apps: 6183\n"
     ]
    }
   ],
   "source": [
    "# Return False if in name is more than tree non-eglish characters\n",
    "# Return True otherwise\n",
    "def english_only(name):\n",
    "    counter = 0\n",
    "\n",
    "    for character in name:\n",
    "\n",
    "        if ord(character) > 127:\n",
    "            counter += 1\n",
    "\n",
    "            if counter > 3:\n",
    "                return False\n",
    "    \n",
    "    #end of loop\n",
    "    \n",
    "    return True\n",
    "    \n",
    "\n",
    "eng_google = []\n",
    "eng_apple = []\n",
    "\n",
    "# We go trough every data set and if there is english name for current row we add it too new list\n",
    "for app in google_clean:\n",
    "    name = app[0]\n",
    "    \n",
    "    if english_only(name):\n",
    "        eng_google.append(app)\n",
    "        \n",
    "#end of loop\n",
    "    \n",
    "for app in apple:\n",
    "    name = app[2]\n",
    "    \n",
    "    if english_only(name):\n",
    "        eng_apple.append(app)\n",
    "        \n",
    "#end of loop\n",
    "\n",
    "print('Amount of english Google apps:', len(eng_google))\n",
    "print('Amount of english Apple apps:', len(eng_apple))"
   ]
  },
  {
   "cell_type": "markdown",
   "metadata": {},
   "source": [
    "### Remove paid applications\n",
    "\n",
    "Our business plan assumes main income from in-app advertising, so for our report we want count only free apps. Same as above we going to remove all paid applications from datasets."
   ]
  },
  {
   "cell_type": "code",
   "execution_count": 11,
   "metadata": {},
   "outputs": [
    {
     "name": "stdout",
     "output_type": "stream",
     "text": [
      "Amount of free, english Google apps:  8864\n",
      "Amount of free, english Apple apps:  3222\n"
     ]
    }
   ],
   "source": [
    "free_google = []\n",
    "free_apple = []\n",
    "\n",
    "for app in eng_google:\n",
    "    price = app[7]\n",
    "    \n",
    "    if price == '0':\n",
    "        free_google.append(app)\n",
    "        \n",
    "# end loop\n",
    "\n",
    "for app in eng_apple:\n",
    "    price = float(app[5])\n",
    "    \n",
    "    if price == 0:\n",
    "        free_apple.append(app)\n",
    "        \n",
    "# end loop\n",
    "\n",
    "print('Amount of free, english Google apps: ', len(free_google))\n",
    "print('Amount of free, english Apple apps: ', len(free_apple))"
   ]
  },
  {
   "cell_type": "markdown",
   "metadata": {},
   "source": [
    "So after all this steps we now have 8864 Google Play applications, and 3222 Apple Store applications. It might be noted, that Apple Store have bigger share of paid applications. In the next step we are going to finally analise our clean data."
   ]
  },
  {
   "cell_type": "code",
   "execution_count": 12,
   "metadata": {},
   "outputs": [],
   "source": [
    "# Returns Frequency Table from index column in dataset in form of dictionary\n",
    "def freq_table(dataset, index, decimals = 2):\n",
    "    \n",
    "    freq = {}\n",
    "    total = 0\n",
    "    \n",
    "    for row in dataset:\n",
    "        column = row[index]\n",
    "        total += 1\n",
    "    \n",
    "        if column in freq:\n",
    "            freq[column] += 1\n",
    "        else:\n",
    "            freq[column] = 1\n",
    "\n",
    "    #end of loop\n",
    "    \n",
    "    freq_perc = {}\n",
    "    \n",
    "    for key in freq:\n",
    "        freq_perc[key] = 100 * ( freq[key] / total )\n",
    "        freq_perc[key] = round(freq_perc[key], decimals)\n",
    "    \n",
    "    return freq_perc\n",
    "# end of def freq_table\n",
    "\n",
    "# Displays frequency table in descending order, cut off values below cutoff\n",
    "def display_table(table, cutoff = 1):\n",
    "    table_display = []\n",
    "    for key in table:\n",
    "        if table[key] >= cutoff:\n",
    "            key_val_as_tuple = (table[key], key)\n",
    "            table_display.append(key_val_as_tuple)\n",
    "\n",
    "    table_sorted = sorted(table_display, reverse = True)\n",
    "    for entry in table_sorted:\n",
    "        print(entry[1], ':', entry[0])\n",
    "\n",
    "final_google = free_google\n",
    "final_apple = free_apple"
   ]
  },
  {
   "cell_type": "markdown",
   "metadata": {},
   "source": [
    "## Business Plan\n",
    "\n",
    "So, our plan is find those applications genres that could provide highest income from placing in-app advertising. Income from advertising depends on number of people who watch them. So we need to find genres of applications that can provide highest number of users.\n",
    "\n",
    "To minimalize risk, development plan assumes that we first release minimal-version of application on Google Play. If application have good responce from audience we will develop it further and add in-app advertising. If application is profitable after 6 month from adding advertizing we also make iOS version and add it to Apple Store.\n",
    "\n",
    "Our long term goal is create application that is profitable on both markets so we need to find genres that are appropriate  on both markets. If we know what we are looking for we can start our analysis."
   ]
  },
  {
   "cell_type": "markdown",
   "metadata": {},
   "source": [
    "## Most popular genres of applications\n",
    "\n",
    "Now we can build frequency tables for both markets. Let's recall columns headers in both datasets."
   ]
  },
  {
   "cell_type": "code",
   "execution_count": 13,
   "metadata": {},
   "outputs": [
    {
     "name": "stdout",
     "output_type": "stream",
     "text": [
      "['App', 'Category', 'Rating', 'Reviews', 'Size', 'Installs', 'Type', 'Price', 'Content Rating', 'Genres', 'Last Updated', 'Current Ver', 'Android Ver'] \n",
      "\n",
      "['', 'id', 'track_name', 'size_bytes', 'currency', 'price', 'rating_count_tot', 'rating_count_ver', 'user_rating', 'user_rating_ver', 'ver', 'cont_rating', 'prime_genre', 'sup_devices.num', 'ipadSc_urls.num', 'lang.num', 'vpp_lic'] \n",
      "\n"
     ]
    }
   ],
   "source": [
    "print(google_header, '\\n')\n",
    "print(apple_header, '\\n')"
   ]
  },
  {
   "cell_type": "markdown",
   "metadata": {},
   "source": [
    "Google Play dataset have two genre related columns. It's Category and Genres, let's build frequency tables and look what we can conclude from them."
   ]
  },
  {
   "cell_type": "code",
   "execution_count": 14,
   "metadata": {},
   "outputs": [
    {
     "name": "stdout",
     "output_type": "stream",
     "text": [
      "Google Play by Category:\n",
      "FAMILY : 18.91\n",
      "GAME : 9.72\n",
      "TOOLS : 8.46\n",
      "BUSINESS : 4.59\n",
      "LIFESTYLE : 3.9\n",
      "PRODUCTIVITY : 3.89\n",
      "FINANCE : 3.7\n",
      "MEDICAL : 3.53\n",
      "SPORTS : 3.4\n",
      "PERSONALIZATION : 3.32\n",
      "COMMUNICATION : 3.24\n",
      "HEALTH_AND_FITNESS : 3.08\n",
      "PHOTOGRAPHY : 2.94\n",
      "NEWS_AND_MAGAZINES : 2.8\n",
      "SOCIAL : 2.66\n",
      "TRAVEL_AND_LOCAL : 2.34\n",
      "SHOPPING : 2.25\n",
      "BOOKS_AND_REFERENCE : 2.14\n",
      "DATING : 1.86\n",
      "VIDEO_PLAYERS : 1.79\n",
      "MAPS_AND_NAVIGATION : 1.4\n",
      "FOOD_AND_DRINK : 1.24\n",
      "EDUCATION : 1.16\n"
     ]
    }
   ],
   "source": [
    "print('Google Play by Category:')\n",
    "google_freq = freq_table(final_google, 1)\n",
    "display_table(google_freq)"
   ]
  },
  {
   "cell_type": "markdown",
   "metadata": {},
   "source": [
    "In Category column we can see quite evenly distributed values. There are some applications designed for fun (Game, Photography, Lifestyle) and some disigned for practical purpose (Tools, Business, Productivity). If we look closer into Family Category we can see that it includes mostly kids games and similar applications. "
   ]
  },
  {
   "cell_type": "code",
   "execution_count": 15,
   "metadata": {},
   "outputs": [
    {
     "name": "stdout",
     "output_type": "stream",
     "text": [
      "Google Play by Genres:\n",
      "Tools : 8.45\n",
      "Entertainment : 6.07\n",
      "Education : 5.35\n",
      "Business : 4.59\n",
      "Productivity : 3.89\n",
      "Lifestyle : 3.89\n",
      "Finance : 3.7\n",
      "Medical : 3.53\n",
      "Sports : 3.46\n",
      "Personalization : 3.32\n",
      "Communication : 3.24\n",
      "Action : 3.1\n",
      "Health & Fitness : 3.08\n",
      "Photography : 2.94\n",
      "News & Magazines : 2.8\n",
      "Social : 2.66\n",
      "Travel & Local : 2.32\n",
      "Shopping : 2.25\n",
      "Books & Reference : 2.14\n",
      "Simulation : 2.04\n",
      "Dating : 1.86\n",
      "Arcade : 1.85\n",
      "Video Players & Editors : 1.77\n",
      "Casual : 1.76\n",
      "Maps & Navigation : 1.4\n",
      "Food & Drink : 1.24\n",
      "Puzzle : 1.13\n"
     ]
    }
   ],
   "source": [
    "print('Google Play by Genres:')\n",
    "google_freq2 = freq_table(final_google, -4) \n",
    "display_table(google_freq2)"
   ]
  },
  {
   "cell_type": "markdown",
   "metadata": {},
   "source": [
    "In Genres column genres are more divided, than in Category Column. For exaple Arcade and Action are contained in Games Category. General landskape is quite similar to the previous column, and we dont need to look in every subcategory separately, so further we will use only Category column for Google Play dataset."
   ]
  },
  {
   "cell_type": "markdown",
   "metadata": {},
   "source": [
    "Apple Store have only one genre related column - prime_genre. So look what we can find here."
   ]
  },
  {
   "cell_type": "code",
   "execution_count": 16,
   "metadata": {
    "scrolled": true
   },
   "outputs": [
    {
     "name": "stdout",
     "output_type": "stream",
     "text": [
      "Apple Store by prime_genre:\n",
      "Games : 58.16\n",
      "Entertainment : 7.88\n",
      "Photo & Video : 4.97\n",
      "Education : 3.66\n",
      "Social Networking : 3.29\n",
      "Shopping : 2.61\n",
      "Utilities : 2.51\n",
      "Sports : 2.14\n",
      "Music : 2.05\n",
      "Health & Fitness : 2.02\n",
      "Productivity : 1.74\n",
      "Lifestyle : 1.58\n",
      "News : 1.33\n",
      "Travel : 1.24\n",
      "Finance : 1.12\n"
     ]
    }
   ],
   "source": [
    "print('Apple Store by prime_genre:')\n",
    "apple_freq = freq_table(final_apple, -5)\n",
    "display_table(apple_freq)"
   ]
  },
  {
   "cell_type": "markdown",
   "metadata": {},
   "source": [
    "We can clearly see that Games are most popular genre of free english applications in Apple Store by really large margin. Games genre cover over half of all applications. Second one is Entertainment that have less than 8%, followed by Photo & Video with 5%. Education covers only 3.66%.\n",
    "\n",
    "The general impression is that the Apple Store (at least free, english part) is dominated by applications desinged for fun (Games, Entertainment, Photo & Video, Social Networking), while prictical purpose applications (Educational, Utilities, Health and Fitness, Productivity) covers really small part of the market."
   ]
  },
  {
   "cell_type": "markdown",
   "metadata": {},
   "source": [
    "## Genres of most popular applications\n",
    "\n",
    "However number of applications in every category may vary from real amount of users that use this application. So we need to go further with our analysis. Now we are going to count average number of installations in every genre. In Google Store dateset we can do this directly, but Apple Store dataset don't include information about number of installations. Our solution to this problem is using rating_count_tot as replacement. We can assume that number of reviews depends on number of installations.\n",
    "\n",
    "Let's start with Google Play. In out data set number of installations is given in text level form like \"100,000+\". This type of data isn't accurate, however it should be decent for our purpose. What we need to do is remove any non-numeric characters and convert variable to integer. "
   ]
  },
  {
   "cell_type": "code",
   "execution_count": 17,
   "metadata": {},
   "outputs": [],
   "source": [
    "# Returns number of installations as int\n",
    "def google_users_fix(users):\n",
    "    users = users.replace(',', '')\n",
    "    users = users.replace('+', '')\n",
    "    users = int(users) if users else 0\n",
    "    \n",
    "    return users"
   ]
  },
  {
   "cell_type": "markdown",
   "metadata": {},
   "source": [
    "Now we can finally create a average users table for Google Play dataset, and look on number of installations per application in every category."
   ]
  },
  {
   "cell_type": "code",
   "execution_count": 18,
   "metadata": {},
   "outputs": [
    {
     "name": "stdout",
     "output_type": "stream",
     "text": [
      "COMMUNICATION : 38456119.17\n",
      "VIDEO_PLAYERS : 24727872.45\n",
      "SOCIAL : 23253652.13\n",
      "PHOTOGRAPHY : 17840110.4\n",
      "PRODUCTIVITY : 16787331.34\n",
      "GAME : 15588015.6\n",
      "TRAVEL_AND_LOCAL : 13984077.71\n",
      "ENTERTAINMENT : 11640705.88\n",
      "TOOLS : 10801391.3\n",
      "NEWS_AND_MAGAZINES : 9549178.47\n",
      "BOOKS_AND_REFERENCE : 8767811.89\n",
      "SHOPPING : 7036877.31\n",
      "PERSONALIZATION : 5201482.61\n",
      "WEATHER : 5074486.2\n",
      "HEALTH_AND_FITNESS : 4188821.99\n",
      "MAPS_AND_NAVIGATION : 4056941.77\n",
      "FAMILY : 3695641.82\n",
      "SPORTS : 3638640.14\n",
      "ART_AND_DESIGN : 1986335.09\n",
      "FOOD_AND_DRINK : 1924897.74\n",
      "EDUCATION : 1833495.15\n",
      "BUSINESS : 1712290.15\n",
      "LIFESTYLE : 1437816.27\n",
      "FINANCE : 1387692.48\n",
      "HOUSE_AND_HOME : 1331540.56\n",
      "DATING : 854028.83\n",
      "COMICS : 817657.27\n",
      "AUTO_AND_VEHICLES : 647317.82\n",
      "LIBRARIES_AND_DEMO : 638503.73\n",
      "PARENTING : 542603.62\n",
      "BEAUTY : 513151.89\n",
      "EVENTS : 253542.22\n",
      "MEDICAL : 120550.62\n"
     ]
    }
   ],
   "source": [
    "n_users = {}\n",
    "n_app = {}\n",
    "\n",
    "for app in final_google:\n",
    "    cat = app[1]\n",
    "    users = google_users_fix(app[5])\n",
    "    \n",
    "    if cat in n_app and cat in n_users:\n",
    "        n_app[cat] += 1\n",
    "        n_users[cat] += users\n",
    "    else:\n",
    "        n_app[cat] = 1\n",
    "        n_users[cat] = users        \n",
    "    \n",
    "\n",
    "# end of loop\n",
    "\n",
    "avg_users_google = {}\n",
    "\n",
    "for cat in n_app:\n",
    "    avg_users_google[cat] = round(n_users[cat] / n_app[cat], 2)\n",
    "    \n",
    "display_table(avg_users_google)"
   ]
  },
  {
   "cell_type": "markdown",
   "metadata": {},
   "source": [
    "The landspace here looks quite different than in the previous Google Play table. Four highest genres are Communication, Video Players, Social and Photography. This four genres was quite low in frequency table. Thats propably becouse of pre-installed applications on new devices like Messenger (Communication), YouTube (Video Players), Facebook (Social) and Gallery/Camera (Photography). In those cases will be really hard to compete with pre-installed and very popular applications.\n",
    "\n",
    "We should look into next ones. Productivity and Game genres, was high in frequency tables, and here also have high place. We can conclude from here that saturation of the martet in those applications still have place for new products. Similar proposal we can assign for Tools genre but here numbers was a little lower.\n",
    "\n",
    "If we look into statistics for Travel or Entertainment genres we can see that theese genres was low in frequency tables. This could mean that those type of applications are quite niche, and again it will be hard to compete with those genres stamples.\n",
    "\n",
    "Let's take a look into Apple Store applications."
   ]
  },
  {
   "cell_type": "code",
   "execution_count": 19,
   "metadata": {},
   "outputs": [
    {
     "name": "stdout",
     "output_type": "stream",
     "text": [
      "Navigation : 86090.33\n",
      "Reference : 74942.11\n",
      "Social Networking : 71548.35\n",
      "Music : 57326.53\n",
      "Weather : 52279.89\n",
      "Book : 39758.5\n",
      "Food & Drink : 33333.92\n",
      "Finance : 31467.94\n",
      "Photo & Video : 28441.54\n",
      "Travel : 28243.8\n",
      "Shopping : 26919.69\n",
      "Health & Fitness : 23298.02\n",
      "Sports : 23008.9\n",
      "Games : 22788.67\n",
      "News : 21248.02\n",
      "Productivity : 21028.41\n",
      "Utilities : 18684.46\n",
      "Lifestyle : 16485.76\n",
      "Entertainment : 14029.83\n",
      "Business : 7491.12\n",
      "Education : 7003.98\n",
      "Catalogs : 4004.0\n",
      "Medical : 612.0\n"
     ]
    }
   ],
   "source": [
    "n_users = {}\n",
    "n_app = {}\n",
    "\n",
    "for app in final_apple:\n",
    "    cat = app[-5]\n",
    "    users = int(app[6])\n",
    "    \n",
    "    if cat in n_app and cat in n_users:\n",
    "        n_app[cat] += 1\n",
    "        n_users[cat] += users\n",
    "    else:\n",
    "        n_app[cat] = 1\n",
    "        n_users[cat] = users        \n",
    "    \n",
    "\n",
    "# end of loop\n",
    "\n",
    "avg_users_apple = {}\n",
    "\n",
    "for cat in n_app:\n",
    "    avg_users_apple[cat] = round(n_users[cat] / n_app[cat], 2)\n",
    "    \n",
    "display_table(avg_users_apple)"
   ]
  },
  {
   "cell_type": "markdown",
   "metadata": {},
   "source": [
    "In this table everything looks different than in the frequency table. Games and Entertainment is quite low, this propably is sign of too high number of applications in those genres. \n",
    "\n",
    "On the other side Navigation and Reference didn't even pass 1% of applications in frequency tables. In those genres saturation of the market could seem low, but if we look closer we will see that Google Maps covers almost all genre of Navigations app, and for Reference it's same situation with Bible and Quran.\n",
    "\n",
    "On the first look there isn't any good niche for new application."
   ]
  },
  {
   "cell_type": "markdown",
   "metadata": {},
   "source": [
    "## Summnary and Recommendations\n",
    "\n",
    "According to our plan (release first on Google Play, and after some success release on Apple Store), we can reccomend following genres for new products.\n",
    "\n"
   ]
  },
  {
   "cell_type": "code",
   "execution_count": 20,
   "metadata": {},
   "outputs": [],
   "source": [
    "# Prints informations about given genre\n",
    "def genre_info(google_name, apple_name):\n",
    "    print('Percent of applications on Google Play in this genre:', google_freq[google_name])\n",
    "    print('Average number of users of applications in this genre on Google Play:', avg_users_google[google_name])\n",
    "    print('Percent of applications on Apple Store in this genre:', apple_freq[apple_name])\n",
    "    print('Average number of ratings of applications in this genre on Apple Store:', avg_users_apple[apple_name])"
   ]
  },
  {
   "cell_type": "markdown",
   "metadata": {},
   "source": [
    "### Productivity\n",
    "\n",
    "Our first recomendation is Productivity Application. This genre market isn't exhausted on both Google Play and Apple Store. On Google Play average number of installations is over 1 500 000, and this genre covers less than 4 percent of all applications. We propably could easly find our place for new application.\n",
    "\n",
    "On Apple Store situaction is little less optimistic but with good brand from Google Play we can also make profit there. On Apple Store this genre only covers less than 2 percent."
   ]
  },
  {
   "cell_type": "code",
   "execution_count": 21,
   "metadata": {},
   "outputs": [
    {
     "name": "stdout",
     "output_type": "stream",
     "text": [
      "Percent of applications on Google Play in this genre: 3.89\n",
      "Average number of users of applications in this genre on Google Play: 16787331.34\n",
      "Percent of applications on Apple Store in this genre: 1.74\n",
      "Average number of ratings of applications in this genre on Apple Store: 21028.41\n"
     ]
    }
   ],
   "source": [
    "genre_info('PRODUCTIVITY', 'Productivity')"
   ]
  },
  {
   "cell_type": "markdown",
   "metadata": {},
   "source": [
    "### Game\n",
    "\n",
    "The second recomendiation is Game genre. On Apple Store this genre is over 50% of market, with quite low average number of ratings but if we can create good game, with good marketing and success from Google Play we propably can also make profit on Apple Store.\n",
    "\n",
    "On Google Play situation looks very good. There is loweer number of applications in this genre and average number of installations is high. We should easly find place in this market for new game, and with success we can expand to the Apple Store."
   ]
  },
  {
   "cell_type": "code",
   "execution_count": 23,
   "metadata": {},
   "outputs": [
    {
     "name": "stdout",
     "output_type": "stream",
     "text": [
      "Percent of applications on Google Play in this genre: 9.72\n",
      "Average number of users of applications in this genre on Google Play: 15588015.6\n",
      "Percent of applications on Apple Store in this genre: 58.16\n",
      "Average number of ratings of applications in this genre on Apple Store: 22788.67\n"
     ]
    }
   ],
   "source": [
    "genre_info('GAME', 'Games')"
   ]
  }
 ],
 "metadata": {
  "kernelspec": {
   "display_name": "Python 3",
   "language": "python",
   "name": "python3"
  },
  "language_info": {
   "codemirror_mode": {
    "name": "ipython",
    "version": 3
   },
   "file_extension": ".py",
   "mimetype": "text/x-python",
   "name": "python",
   "nbconvert_exporter": "python",
   "pygments_lexer": "ipython3",
   "version": "3.7.1"
  }
 },
 "nbformat": 4,
 "nbformat_minor": 2
}
